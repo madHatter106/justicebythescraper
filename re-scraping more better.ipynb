{
 "cells": [
  {
   "cell_type": "code",
   "execution_count": 1,
   "metadata": {
    "collapsed": true
   },
   "outputs": [],
   "source": [
    "from selenium.webdriver.support.ui import WebDriverWait as Wait\n",
    "from selenium.webdriver.support.ui import Select\n",
    "from selenium import webdriver\n",
    "from selenium.webdriver.common.by import By\n",
    "from selenium.common.exceptions import StaleElementReferenceException as SERE\n",
    "from selenium.webdriver.support import expected_conditions as EC\n",
    "from selenium.common.exceptions import NoSuchElementException\n",
    "from bs4 import BeautifulSoup as BS\n",
    "import os, time\n",
    "from shutil import which"
   ]
  },
  {
   "cell_type": "code",
   "execution_count": 2,
   "metadata": {
    "collapsed": true
   },
   "outputs": [],
   "source": [
    "def find(driver,idstring):\n",
    "    element = driver.find_elements_by_id(idstring)\n",
    "    if element:\n",
    "        return element\n",
    "    else:\n",
    "        return False"
   ]
  },
  {
   "cell_type": "code",
   "execution_count": 13,
   "metadata": {
    "collapsed": false
   },
   "outputs": [],
   "source": [
    "PROPERTYLINK = 'http://sdat.dat.maryland.gov/RealProperty/Pages/default.aspx'\n",
    "COUNTY = \"PRINCE GEORGE'S %s\" % \"COUNTY\"\n",
    "METHOD =  \"STREET ADDRESS\"\n",
    "QUERY = \"Oakridge\"\n",
    "chromedriver = which('chromedriver')\n",
    "#chromedriver=\"/usr/bin/chromedriver\"\n",
    "if chromedriver:\n",
    "    os.environ[\"webdriver.chrome.driver\"] = chromedriver\n",
    "else:\n",
    "    print('chromedriver not found')"
   ]
  },
  {
   "cell_type": "code",
   "execution_count": 14,
   "metadata": {
    "collapsed": false
   },
   "outputs": [],
   "source": [
    "driver = webdriver.Chrome(chromedriver)\n",
    "driver.wait = Wait(driver, 5)\n",
    "driver.get(PROPERTYLINK)"
   ]
  },
  {
   "cell_type": "code",
   "execution_count": 15,
   "metadata": {
    "collapsed": false
   },
   "outputs": [
    {
     "name": "stdout",
     "output_type": "stream",
     "text": [
      "attempt # 1\n",
      "Element went stale :(\n",
      "waiting a bit before trying\n"
     ]
    },
    {
     "name": "stderr",
     "output_type": "stream",
     "text": [
      "Exception ignored in: <bound method Service.__del__ of <selenium.webdriver.chrome.service.Service object at 0x106b9c780>>\n",
      "Traceback (most recent call last):\n",
      "  File \"/Applications/anaconda/lib/python3.5/site-packages/selenium/webdriver/common/service.py\", line 151, in __del__\n",
      "    self.stop()\n",
      "  File \"/Applications/anaconda/lib/python3.5/site-packages/selenium/webdriver/common/service.py\", line 123, in stop\n",
      "    if self.process is None:\n",
      "AttributeError: 'Service' object has no attribute 'process'\n"
     ]
    },
    {
     "name": "stdout",
     "output_type": "stream",
     "text": [
      "attempt # 2\n"
     ]
    }
   ],
   "source": [
    "def ProcessPage1():\n",
    "cntyID = 'MainContent_MainContent_cphMainContentArea_ucSearchType_wzrdRealPropertySearch_ucSearchType_ddlCounty'\n",
    "selectCnty = Select(driver.find_element_by_id(cntyID))\n",
    "selectCnty.select_by_visible_text(\"PRINCE GEORGE'S COUNTY\")\n",
    "methodID = 'MainContent_MainContent_cphMainContentArea_ucSearchType_wzrdRealPropertySearch_ucSearchType_ddlSearchType'\n",
    "selectMethod = Select(driver.find_element_by_id(methodID))\n",
    "selectMethod.select_by_visible_text('STREET ADDRESS')\n",
    "wait = Wait(driver, 10)\n",
    "buttonID = 'MainContent_MainContent_cphMainContentArea_ucSearchType_wzrdRealPropertySearch_StartNavigationTemplateContainerID_btnContinue'\n",
    "trycount = 0\n",
    "while True:\n",
    "    trycount += 1\n",
    "    try:\n",
    "        print('attempt # %d' % trycount)\n",
    "        element = wait.until(EC.element_to_be_clickable((By.ID, buttonID)))\n",
    "        if element:\n",
    "            element.click()\n",
    "            break\n",
    "    except SERE as e:\n",
    "        print('Element went stale :(')\n",
    "        print('waiting a bit before trying')\n",
    "        if trycount > 5:\n",
    "            break\n",
    "        time.sleep(2)"
   ]
  },
  {
   "cell_type": "code",
   "execution_count": 7,
   "metadata": {
    "collapsed": false
   },
   "outputs": [],
   "source": [
    "stNmID = 'MainContent_MainContent_cphMainContentArea_ucSearchType_wzrdRealPropertySearch_ucEnterData_txtStreetName'\n",
    "stNmBx = driver.find_element_by_id(stNmID)\n",
    "stNmBx.send_keys('Oakridge')\n",
    "nxtBtnID = 'MainContent_MainContent_cphMainContentArea_ucSearchType_wzrdRealPropertySearch_StepNavigationTemplateContainerID_btnStepNextButton'\n",
    "driver.implicitly_wait(5)\n",
    "try:\n",
    "    element = wait.until(EC.element_to_be_clickable((By.ID, nxtBtnID)))\n",
    "    if element:\n",
    "        element.click()\n",
    "except SERE as e:\n",
    "    print('Element went stale: (')"
   ]
  },
  {
   "cell_type": "code",
   "execution_count": 8,
   "metadata": {
    "collapsed": false
   },
   "outputs": [],
   "source": [
    "pagesource = driver.page_source"
   ]
  },
  {
   "cell_type": "code",
   "execution_count": 9,
   "metadata": {
    "collapsed": false
   },
   "outputs": [],
   "source": [
    "soup = BS(pagesource, 'lxml')"
   ]
  },
  {
   "cell_type": "code",
   "execution_count": 10,
   "metadata": {
    "collapsed": false
   },
   "outputs": [],
   "source": [
    "#Getting the named_link table of the third page\n",
    "tbl = soup.find('table',attrs={\"class\":\"ui-table table-stripe\"})"
   ]
  },
  {
   "cell_type": "code",
   "execution_count": 11,
   "metadata": {
    "collapsed": false
   },
   "outputs": [],
   "source": [
    "tbody = tbl.find('tbody')"
   ]
  },
  {
   "cell_type": "code",
   "execution_count": 12,
   "metadata": {
    "collapsed": false
   },
   "outputs": [],
   "source": [
    "linklist=[]\n",
    "for row in tbody.find_all('tr'):\n",
    "    a = row.find('a', attrs={\"class\": \"lnkdetails\"})\n",
    "    if a:\n",
    "        dataLinkEle = driver.find_element(By.ID, a.attrs['id'])\n",
    "        linklist.append(dataLinkEle)"
   ]
  },
  {
   "cell_type": "code",
   "execution_count": 18,
   "metadata": {
    "collapsed": true
   },
   "outputs": [],
   "source": [
    "# clicking on individual names\n",
    "dataLinkEle.click()"
   ]
  },
  {
   "cell_type": "code",
   "execution_count": 20,
   "metadata": {
    "collapsed": false
   },
   "outputs": [],
   "source": [
    "# Page 4:\n",
    "srcIndiv = driver.page_source"
   ]
  },
  {
   "cell_type": "code",
   "execution_count": 22,
   "metadata": {
    "collapsed": true
   },
   "outputs": [],
   "source": [
    "iSoup = BS(srcIndiv,'lxml')"
   ]
  },
  {
   "cell_type": "code",
   "execution_count": 25,
   "metadata": {
    "collapsed": true
   },
   "outputs": [],
   "source": [
    "iTbl = iSoup.find('table',attrs={'id':'detailSearch'})"
   ]
  },
  {
   "cell_type": "code",
   "execution_count": 26,
   "metadata": {
    "collapsed": true
   },
   "outputs": [],
   "source": [
    "itbody = iTbl.find('tbody')"
   ]
  },
  {
   "cell_type": "code",
   "execution_count": 30,
   "metadata": {
    "collapsed": true
   },
   "outputs": [],
   "source": [
    "# THIS SHOULD GIVE ME THE LEVEL-1 ROWS OF THE MAIN TABLE. WE CAN SKIP\n",
    "trows = itbody.find_all('tr', recursive=True) "
   ]
  },
  {
   "cell_type": "code",
   "execution_count": 31,
   "metadata": {
    "collapsed": false
   },
   "outputs": [
    {
     "data": {
      "text/plain": [
       "50"
      ]
     },
     "execution_count": 31,
     "metadata": {},
     "output_type": "execute_result"
    }
   ],
   "source": [
    "len(trows) # we have to go "
   ]
  },
  {
   "cell_type": "code",
   "execution_count": 45,
   "metadata": {
    "collapsed": false
   },
   "outputs": [
    {
     "data": {
      "text/plain": [
       "True"
      ]
     },
     "execution_count": 45,
     "metadata": {},
     "output_type": "execute_result"
    }
   ],
   "source": [
    "row0 = trows[0]\n",
    "row0.text.strip().replace('\\n','') == '' # true so skip"
   ]
  },
  {
   "cell_type": "code",
   "execution_count": 51,
   "metadata": {
    "collapsed": false
   },
   "outputs": [
    {
     "name": "stdout",
     "output_type": "stream",
     "text": [
      "skip row 0\n",
      "--------------------------------------------------\n",
      "Account Identifier:    District - 19 Account Number - 2155224\n",
      "--------------------------------------------------\n",
      "--------------------------------------------------\n",
      "NEW SECTION: Owner Information\n",
      "--------------------------------------------------\n",
      "Owner Name:   CORBOY EILEEN    Use:  Principal Residence:    RESIDENTIAL YES\n",
      "--------------------------------------------------\n",
      "Mailing Address:   6919 OAKRIDGE RDHYATTSVILLE MD 20782-1153   Deed Reference:    /19907/ 00602\n",
      "--------------------------------------------------\n",
      "--------------------------------------------------\n",
      "NEW SECTION: Location & Structure Information\n",
      "--------------------------------------------------\n",
      "Premises Address:    6919  OAKRIDGE RDHYATTSVILLE          20782-0000     Legal Description:    T-DT S/B 07/12/04L19907 F602\n",
      "--------------------------------------------------\n",
      "Map:   Grid:   Parcel:   Sub District:   Subdivision:   Section:   Block:   Lot:   Assessment Year:   Plat No:   A-0652     0042   00C1    0000       0400       A        36       2016   Plat Ref:\n",
      "--------------------------------------------------\n",
      "Map:   Grid:   Parcel:   Sub District:   Subdivision:   Section:   Block:   Lot:   Assessment Year:   Plat No:   A-0652\n",
      "--------------------------------------------------\n",
      "0042   00C1    0000       0400       A        36       2016   Plat Ref:\n",
      "--------------------------------------------------\n",
      "Special Tax Areas:   Town:   UNIVERSITY PARK     Ad Valorem:        Tax Class:   8\n",
      "--------------------------------------------------\n",
      "Special Tax Areas:   Town:   UNIVERSITY PARK\n",
      "--------------------------------------------------\n",
      "Ad Valorem:\n",
      "--------------------------------------------------\n",
      "Tax Class:   8\n",
      "--------------------------------------------------\n",
      "Primary Structure Built   Above Grade Enclosed Area   Finished Basement Area   Property Land Area   County Use     1946   2,460 SF   YES   11,074 SF   001\n",
      "--------------------------------------------------\n",
      "Primary Structure Built   Above Grade Enclosed Area   Finished Basement Area   Property Land Area   County Use\n",
      "--------------------------------------------------\n",
      "1946   2,460 SF   YES   11,074 SF   001\n",
      "--------------------------------------------------\n",
      "skip row 17\n",
      "--------------------------------------------------\n",
      "Stories   Basement   Type   Exterior   Full/Half Bath   Garage   Last Major Renovation     2 1/2   YES   STANDARD UNIT   BRICK   2 full   1 Attached\n",
      "--------------------------------------------------\n",
      "Stories   Basement   Type   Exterior   Full/Half Bath   Garage   Last Major Renovation\n",
      "--------------------------------------------------\n",
      "2 1/2   YES   STANDARD UNIT   BRICK   2 full   1 Attached\n",
      "--------------------------------------------------\n",
      "--------------------------------------------------\n",
      "NEW SECTION: Value Information\n",
      "--------------------------------------------------\n",
      "Base Value   Value   Phase-in Assessments          As of 01/01/2016   As of 07/01/2016   As of 07/01/2017     Land:    200,700   200,700     Improvements   235,900   339,300     Total:    436,600   540,000   471,067   505,533     Preferential Land:    0         0\n",
      "--------------------------------------------------\n",
      "Base Value   Value   Phase-in Assessments\n",
      "--------------------------------------------------\n",
      "As of 01/01/2016   As of 07/01/2016   As of 07/01/2017\n",
      "--------------------------------------------------\n",
      "Land:    200,700   200,700\n",
      "--------------------------------------------------\n",
      "Improvements   235,900   339,300\n",
      "--------------------------------------------------\n",
      "Total:    436,600   540,000   471,067   505,533\n",
      "--------------------------------------------------\n",
      "Preferential Land:    0         0\n",
      "--------------------------------------------------\n",
      "--------------------------------------------------\n",
      "NEW SECTION: Transfer Information\n",
      "--------------------------------------------------\n",
      "Seller:  FLY,WILLIAM H G   Date:  07/09/2004   Price: $0     Type:  NON-ARMS LENGTH OTHER   Deed1:  /19907/ 00602   Deed2:            Seller:  POWERS,DOROTHY A   Date:  06/09/1999   Price: $257,000     Type:  ARMS LENGTH IMPROVED   Deed1:  /13135/ 00642   Deed2:            Seller:     Date:     Price:      Type:     Deed1:    Deed2:\n",
      "--------------------------------------------------\n",
      "Seller:  FLY,WILLIAM H G   Date:  07/09/2004   Price: $0\n",
      "--------------------------------------------------\n",
      "Type:  NON-ARMS LENGTH OTHER   Deed1:  /19907/ 00602   Deed2:\n",
      "--------------------------------------------------\n",
      "skip row 33\n",
      "--------------------------------------------------\n",
      "Seller:  POWERS,DOROTHY A   Date:  06/09/1999   Price: $257,000\n",
      "--------------------------------------------------\n",
      "Type:  ARMS LENGTH IMPROVED   Deed1:  /13135/ 00642   Deed2:\n",
      "--------------------------------------------------\n",
      "skip row 36\n",
      "--------------------------------------------------\n",
      "Seller:     Date:     Price:\n",
      "--------------------------------------------------\n",
      "Type:     Deed1:    Deed2:\n",
      "--------------------------------------------------\n",
      "--------------------------------------------------\n",
      "NEW SECTION: Exemption Information\n",
      "--------------------------------------------------\n",
      "Partial Exempt Assessments:    Class   07/01/2016   07/01/2017\n",
      "--------------------------------------------------\n",
      "County:    000   0.00\n",
      "--------------------------------------------------\n",
      "State:    000   0.00\n",
      "--------------------------------------------------\n",
      "Municipal:    000   0.00|0.00   0.00|0.00\n",
      "--------------------------------------------------\n",
      "Tax Exempt:    Special Tax Recapture:      Exempt Class:    NONE\n",
      "--------------------------------------------------\n",
      "Tax Exempt:    Special Tax Recapture:\n",
      "--------------------------------------------------\n",
      "Exempt Class:    NONE\n",
      "--------------------------------------------------\n",
      "--------------------------------------------------\n",
      "NEW SECTION: Homestead Application Information\n",
      "--------------------------------------------------\n",
      "Homestead Application Status:   Approved   04/23/2014\n",
      "--------------------------------------------------\n",
      "skip row 49\n",
      "--------------------------------------------------\n"
     ]
    }
   ],
   "source": [
    "for i, row in enumerate(trows):\n",
    "    text = row.text.strip().replace('\\n',' ')\n",
    "    if text == '':\n",
    "        print('skip row %d' %i)\n",
    "    elif 'Information' in text:\n",
    "        print('-' * 50)\n",
    "        print('NEW SECTION: %s' % text)\n",
    "    else:\n",
    "        print(text)\n",
    "    print('-'*50)"
   ]
  },
  {
   "cell_type": "code",
   "execution_count": null,
   "metadata": {
    "collapsed": true
   },
   "outputs": [],
   "source": [
    "def ParseOwnerInfo:\n",
    "    pass\n",
    "\n",
    "def ParseLocStrucInfo:\n",
    "    pass\n",
    "\n",
    "def ParseValueInfo:\n",
    "    pass\n",
    "\n",
    "def ParseTransferInfo:\n",
    "    pass"
   ]
  },
  {
   "cell_type": "code",
   "execution_count": null,
   "metadata": {
    "collapsed": true
   },
   "outputs": [],
   "source": []
  }
 ],
 "metadata": {
  "anaconda-cloud": {},
  "kernelspec": {
   "display_name": "Python 3",
   "language": "python",
   "name": "python3"
  },
  "language_info": {
   "codemirror_mode": {
    "name": "ipython",
    "version": 3
   },
   "file_extension": ".py",
   "mimetype": "text/x-python",
   "name": "python",
   "nbconvert_exporter": "python",
   "pygments_lexer": "ipython3",
   "version": "3.5.2"
  }
 },
 "nbformat": 4,
 "nbformat_minor": 0
}
